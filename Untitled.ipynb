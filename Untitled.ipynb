{
 "cells": [
  {
   "cell_type": "code",
   "execution_count": 1,
   "id": "494a9351",
   "metadata": {},
   "outputs": [],
   "source": [
    "import mlproject\n"
   ]
  },
  {
   "cell_type": "code",
   "execution_count": 2,
   "id": "b5499fdc",
   "metadata": {},
   "outputs": [
    {
     "name": "stdout",
     "output_type": "stream",
     "text": [
      "Help on package mlproject:\n",
      "\n",
      "NAME\n",
      "    mlproject\n",
      "\n",
      "PACKAGE CONTENTS\n",
      "\n",
      "\n",
      "DATA\n",
      "    version_file = '/Users/tarikelkhoury/code/Tarik-com/mlproject/mlprojec...\n",
      "\n",
      "FILE\n",
      "    /Users/tarikelkhoury/code/Tarik-com/mlproject/mlproject/__init__.py\n",
      "\n",
      "\n"
     ]
    }
   ],
   "source": [
    "help(mlproject)"
   ]
  },
  {
   "cell_type": "code",
   "execution_count": 3,
   "id": "a8c69116",
   "metadata": {},
   "outputs": [],
   "source": [
    "from mlproject.distance import haversine"
   ]
  },
  {
   "cell_type": "code",
   "execution_count": 5,
   "id": "5e47407a",
   "metadata": {},
   "outputs": [
    {
     "data": {
      "text/plain": [
       "float"
      ]
     },
     "execution_count": 5,
     "metadata": {},
     "output_type": "execute_result"
    }
   ],
   "source": [
    "type(haversine(1,2,1,1))"
   ]
  },
  {
   "cell_type": "code",
   "execution_count": 6,
   "id": "f4668b9d",
   "metadata": {},
   "outputs": [
    {
     "name": "stdout",
     "output_type": "stream",
     "text": [
      "Help on function haversine in module mlproject.distance:\n",
      "\n",
      "haversine(lon1, lat1, lon2, lat2)\n",
      "    Calculate the great circle distance between two points\n",
      "    on the earth (specified in decimal degrees)\n",
      "\n"
     ]
    }
   ],
   "source": [
    "help(haversine)"
   ]
  },
  {
   "cell_type": "code",
   "execution_count": 7,
   "id": "01f8e4f3",
   "metadata": {},
   "outputs": [
    {
     "name": "stderr",
     "output_type": "stream",
     "text": [
      "/Users/tarikelkhoury/.pyenv/versions/3.8.12/envs/lewagon/lib/python3.8/site-packages/pandas/compat/__init__.py:124: UserWarning: Could not import the lzma module. Your installed Python is incomplete. Attempting to use lzma compression will result in a RuntimeError.\n",
      "  warnings.warn(msg)\n"
     ]
    },
    {
     "data": {
      "text/plain": [
       "'tons of data'"
      ]
     },
     "execution_count": 7,
     "metadata": {},
     "output_type": "execute_result"
    }
   ],
   "source": [
    "from packgenlite.lib import get_data\n",
    "\n",
    "get_data()"
   ]
  },
  {
   "cell_type": "code",
   "execution_count": null,
   "id": "14763a5a",
   "metadata": {},
   "outputs": [],
   "source": []
  }
 ],
 "metadata": {
  "kernelspec": {
   "display_name": "Python 3 (ipykernel)",
   "language": "python",
   "name": "python3"
  },
  "language_info": {
   "codemirror_mode": {
    "name": "ipython",
    "version": 3
   },
   "file_extension": ".py",
   "mimetype": "text/x-python",
   "name": "python",
   "nbconvert_exporter": "python",
   "pygments_lexer": "ipython3",
   "version": "3.8.12"
  },
  "toc": {
   "base_numbering": 1,
   "nav_menu": {},
   "number_sections": true,
   "sideBar": true,
   "skip_h1_title": false,
   "title_cell": "Table of Contents",
   "title_sidebar": "Contents",
   "toc_cell": false,
   "toc_position": {},
   "toc_section_display": true,
   "toc_window_display": false
  }
 },
 "nbformat": 4,
 "nbformat_minor": 5
}
